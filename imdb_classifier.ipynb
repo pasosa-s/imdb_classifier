{
  "nbformat": 4,
  "nbformat_minor": 0,
  "metadata": {
    "colab": {
      "name": "imdb_classifier.ipynb",
      "provenance": [],
      "authorship_tag": "ABX9TyMKcWZfhvkDDI4mFITmSN+q",
      "include_colab_link": true
    },
    "kernelspec": {
      "name": "python3",
      "display_name": "Python 3"
    },
    "accelerator": "GPU"
  },
  "cells": [
    {
      "cell_type": "markdown",
      "metadata": {
        "id": "view-in-github",
        "colab_type": "text"
      },
      "source": [
        "<a href=\"https://colab.research.google.com/github/pasosa-s/imdb_classifier/blob/master/imdb_classifier.ipynb\" target=\"_parent\"><img src=\"https://colab.research.google.com/assets/colab-badge.svg\" alt=\"Open In Colab\"/></a>"
      ]
    },
    {
      "cell_type": "code",
      "metadata": {
        "id": "hU0BlS5tPdq6",
        "colab_type": "code",
        "colab": {}
      },
      "source": [
        "%reload_ext autoreload\n",
        "%autoreload 2\n",
        "%matplotlib inline"
      ],
      "execution_count": 1,
      "outputs": []
    },
    {
      "cell_type": "code",
      "metadata": {
        "id": "fxVCOo-5PgzH",
        "colab_type": "code",
        "colab": {}
      },
      "source": [
        "from fastai.text import *"
      ],
      "execution_count": 2,
      "outputs": []
    },
    {
      "cell_type": "code",
      "metadata": {
        "id": "ZDAcNrwlPjap",
        "colab_type": "code",
        "colab": {
          "base_uri": "https://localhost:8080/",
          "height": 52
        },
        "outputId": "d99edf46-6994-404d-a8cd-6eec68a0642a"
      },
      "source": [
        "path = untar_data(URLs.IMDB_SAMPLE)\n",
        "path.ls()"
      ],
      "execution_count": 3,
      "outputs": [
        {
          "output_type": "stream",
          "text": [
            "Downloading http://files.fast.ai/data/examples/imdb_sample.tgz\n"
          ],
          "name": "stdout"
        },
        {
          "output_type": "display_data",
          "data": {
            "text/html": [
              ""
            ],
            "text/plain": [
              "<IPython.core.display.HTML object>"
            ]
          },
          "metadata": {
            "tags": []
          }
        },
        {
          "output_type": "execute_result",
          "data": {
            "text/plain": [
              "[PosixPath('/root/.fastai/data/imdb_sample/texts.csv')]"
            ]
          },
          "metadata": {
            "tags": []
          },
          "execution_count": 3
        }
      ]
    },
    {
      "cell_type": "code",
      "metadata": {
        "id": "KC0zCkn3P2bq",
        "colab_type": "code",
        "colab": {
          "base_uri": "https://localhost:8080/",
          "height": 206
        },
        "outputId": "948c18dc-623d-4654-feb0-12c814bb06b7"
      },
      "source": [
        "df = pd.read_csv(path/'texts.csv')\n",
        "df.head()"
      ],
      "execution_count": 4,
      "outputs": [
        {
          "output_type": "execute_result",
          "data": {
            "text/html": [
              "<div>\n",
              "<style scoped>\n",
              "    .dataframe tbody tr th:only-of-type {\n",
              "        vertical-align: middle;\n",
              "    }\n",
              "\n",
              "    .dataframe tbody tr th {\n",
              "        vertical-align: top;\n",
              "    }\n",
              "\n",
              "    .dataframe thead th {\n",
              "        text-align: right;\n",
              "    }\n",
              "</style>\n",
              "<table border=\"1\" class=\"dataframe\">\n",
              "  <thead>\n",
              "    <tr style=\"text-align: right;\">\n",
              "      <th></th>\n",
              "      <th>label</th>\n",
              "      <th>text</th>\n",
              "      <th>is_valid</th>\n",
              "    </tr>\n",
              "  </thead>\n",
              "  <tbody>\n",
              "    <tr>\n",
              "      <th>0</th>\n",
              "      <td>negative</td>\n",
              "      <td>Un-bleeping-believable! Meg Ryan doesn't even ...</td>\n",
              "      <td>False</td>\n",
              "    </tr>\n",
              "    <tr>\n",
              "      <th>1</th>\n",
              "      <td>positive</td>\n",
              "      <td>This is a extremely well-made film. The acting...</td>\n",
              "      <td>False</td>\n",
              "    </tr>\n",
              "    <tr>\n",
              "      <th>2</th>\n",
              "      <td>negative</td>\n",
              "      <td>Every once in a long while a movie will come a...</td>\n",
              "      <td>False</td>\n",
              "    </tr>\n",
              "    <tr>\n",
              "      <th>3</th>\n",
              "      <td>positive</td>\n",
              "      <td>Name just says it all. I watched this movie wi...</td>\n",
              "      <td>False</td>\n",
              "    </tr>\n",
              "    <tr>\n",
              "      <th>4</th>\n",
              "      <td>negative</td>\n",
              "      <td>This movie succeeds at being one of the most u...</td>\n",
              "      <td>False</td>\n",
              "    </tr>\n",
              "  </tbody>\n",
              "</table>\n",
              "</div>"
            ],
            "text/plain": [
              "      label                                               text  is_valid\n",
              "0  negative  Un-bleeping-believable! Meg Ryan doesn't even ...     False\n",
              "1  positive  This is a extremely well-made film. The acting...     False\n",
              "2  negative  Every once in a long while a movie will come a...     False\n",
              "3  positive  Name just says it all. I watched this movie wi...     False\n",
              "4  negative  This movie succeeds at being one of the most u...     False"
            ]
          },
          "metadata": {
            "tags": []
          },
          "execution_count": 4
        }
      ]
    },
    {
      "cell_type": "code",
      "metadata": {
        "id": "ac4EUEz6QFqL",
        "colab_type": "code",
        "colab": {
          "base_uri": "https://localhost:8080/",
          "height": 70
        },
        "outputId": "2ad9b102-e426-4006-d18e-893f549157d5"
      },
      "source": [
        "df['text'][0]"
      ],
      "execution_count": 5,
      "outputs": [
        {
          "output_type": "execute_result",
          "data": {
            "application/vnd.google.colaboratory.intrinsic+json": {
              "type": "string"
            },
            "text/plain": [
              "\"Un-bleeping-believable! Meg Ryan doesn't even look her usual pert lovable self in this, which normally makes me forgive her shallow ticky acting schtick. Hard to believe she was the producer on this dog. Plus Kevin Kline: what kind of suicide trip has his career been on? Whoosh... Banzai!!! Finally this was directed by the guy who did Big Chill? Must be a replay of Jonestown - hollywood style. Wooofff!\""
            ]
          },
          "metadata": {
            "tags": []
          },
          "execution_count": 5
        }
      ]
    },
    {
      "cell_type": "code",
      "metadata": {
        "id": "u80BEhW4QQ7a",
        "colab_type": "code",
        "colab": {
          "base_uri": "https://localhost:8080/",
          "height": 17
        },
        "outputId": "b057ae2c-ab6f-457f-c0eb-ba82c5ac216f"
      },
      "source": [
        "data_lm = TextDataBunch.from_csv(path, 'texts.csv')"
      ],
      "execution_count": 6,
      "outputs": [
        {
          "output_type": "display_data",
          "data": {
            "text/html": [
              ""
            ],
            "text/plain": [
              "<IPython.core.display.HTML object>"
            ]
          },
          "metadata": {
            "tags": []
          }
        },
        {
          "output_type": "display_data",
          "data": {
            "text/html": [
              ""
            ],
            "text/plain": [
              "<IPython.core.display.HTML object>"
            ]
          },
          "metadata": {
            "tags": []
          }
        }
      ]
    },
    {
      "cell_type": "code",
      "metadata": {
        "id": "05jRGoVfQsOp",
        "colab_type": "code",
        "colab": {}
      },
      "source": [
        "data_lm.save()"
      ],
      "execution_count": 7,
      "outputs": []
    },
    {
      "cell_type": "code",
      "metadata": {
        "id": "KGTyekdnRMG6",
        "colab_type": "code",
        "colab": {}
      },
      "source": [
        "data = load_data(path)"
      ],
      "execution_count": null,
      "outputs": []
    },
    {
      "cell_type": "code",
      "metadata": {
        "id": "hor4afA_TaMR",
        "colab_type": "code",
        "colab": {
          "base_uri": "https://localhost:8080/",
          "height": 310
        },
        "outputId": "0ae81bb4-7371-498f-97aa-75422c4f5162"
      },
      "source": [
        "data = TextClasDataBunch.from_csv(path, 'texts.csv')\n",
        "data.show_batch()"
      ],
      "execution_count": 8,
      "outputs": [
        {
          "output_type": "display_data",
          "data": {
            "text/html": [
              ""
            ],
            "text/plain": [
              "<IPython.core.display.HTML object>"
            ]
          },
          "metadata": {
            "tags": []
          }
        },
        {
          "output_type": "display_data",
          "data": {
            "text/html": [
              ""
            ],
            "text/plain": [
              "<IPython.core.display.HTML object>"
            ]
          },
          "metadata": {
            "tags": []
          }
        },
        {
          "output_type": "display_data",
          "data": {
            "text/html": [
              "<table border=\"1\" class=\"dataframe\">\n",
              "  <thead>\n",
              "    <tr style=\"text-align: right;\">\n",
              "      <th>text</th>\n",
              "      <th>target</th>\n",
              "    </tr>\n",
              "  </thead>\n",
              "  <tbody>\n",
              "    <tr>\n",
              "      <td>xxbos xxmaj raising xxmaj victor xxmaj vargas : a xxmaj review \\n \\n  xxmaj you know , xxmaj raising xxmaj victor xxmaj vargas is like sticking your hands into a big , steaming bowl of xxunk . xxmaj it 's warm and gooey , but you 're not sure if it feels right . xxmaj try as i might , no matter how warm and gooey xxmaj raising xxmaj</td>\n",
              "      <td>negative</td>\n",
              "    </tr>\n",
              "    <tr>\n",
              "      <td>xxbos xxmaj now that xxmaj che(2008 ) has finished its relatively short xxmaj australian cinema run ( extremely limited xxunk screen in xxmaj sydney , after xxunk ) , i can xxunk join both xxunk of \" xxmaj at xxmaj the xxmaj movies \" in taking xxmaj steven xxmaj soderbergh to task . \\n \\n  xxmaj it 's usually satisfying to watch a film director change his style /</td>\n",
              "      <td>negative</td>\n",
              "    </tr>\n",
              "    <tr>\n",
              "      <td>xxbos xxmaj this film sat on my xxmaj tivo for weeks before i watched it . i xxunk a self - indulgent xxunk flick about relationships gone bad . i was wrong ; this was an xxunk xxunk into the screwed - up xxunk of xxmaj new xxmaj yorkers . \\n \\n  xxmaj the format is the same as xxmaj max xxmaj xxunk ' \" xxmaj la xxmaj ronde</td>\n",
              "      <td>positive</td>\n",
              "    </tr>\n",
              "    <tr>\n",
              "      <td>xxbos xxmaj many neglect that this is n't just a classic due to the fact that it 's the first xxup 3d game , or even the first xxunk - up . xxmaj it 's also one of the first stealth games , one of the xxunk definitely the first ) truly claustrophobic games , and just a pretty well - rounded gaming experience in general . xxmaj with graphics</td>\n",
              "      <td>positive</td>\n",
              "    </tr>\n",
              "    <tr>\n",
              "      <td>xxbos i really wanted to love this show . i truly , honestly did . \\n \\n  xxmaj for the first time , gay viewers get their own version of the \" xxmaj the xxmaj bachelor \" . xxmaj with the help of his obligatory \" hag \" xxmaj xxunk , xxmaj james , a good looking , well - to - do thirty - something has the chance</td>\n",
              "      <td>negative</td>\n",
              "    </tr>\n",
              "  </tbody>\n",
              "</table>"
            ],
            "text/plain": [
              "<IPython.core.display.HTML object>"
            ]
          },
          "metadata": {
            "tags": []
          }
        }
      ]
    },
    {
      "cell_type": "code",
      "metadata": {
        "id": "RJeVgaSVTuPT",
        "colab_type": "code",
        "colab": {
          "base_uri": "https://localhost:8080/",
          "height": 191
        },
        "outputId": "1509b6c7-63a8-4a3e-ea1d-c99550cdb71c"
      },
      "source": [
        "data.vocab.itos[:10]"
      ],
      "execution_count": 9,
      "outputs": [
        {
          "output_type": "execute_result",
          "data": {
            "text/plain": [
              "['xxunk',\n",
              " 'xxpad',\n",
              " 'xxbos',\n",
              " 'xxeos',\n",
              " 'xxfld',\n",
              " 'xxmaj',\n",
              " 'xxup',\n",
              " 'xxrep',\n",
              " 'xxwrep',\n",
              " 'the']"
            ]
          },
          "metadata": {
            "tags": []
          },
          "execution_count": 9
        }
      ]
    },
    {
      "cell_type": "code",
      "metadata": {
        "id": "d7TB0gjTXW3i",
        "colab_type": "code",
        "colab": {
          "base_uri": "https://localhost:8080/",
          "height": 34
        },
        "outputId": "fbabb1e3-0375-4a37-e004-f3b39074ac59"
      },
      "source": [
        "data.train_ds[0][0]"
      ],
      "execution_count": 16,
      "outputs": [
        {
          "output_type": "execute_result",
          "data": {
            "text/plain": [
              "Text [   2   70 2762   13 ...   11  847   17   11]"
            ]
          },
          "metadata": {
            "tags": []
          },
          "execution_count": 16
        }
      ]
    },
    {
      "cell_type": "code",
      "metadata": {
        "id": "4fCkC4kQXcRt",
        "colab_type": "code",
        "colab": {}
      },
      "source": [
        "bs=48"
      ],
      "execution_count": 17,
      "outputs": []
    },
    {
      "cell_type": "code",
      "metadata": {
        "id": "AwvrnFBAanVc",
        "colab_type": "code",
        "colab": {
          "base_uri": "https://localhost:8080/",
          "height": 156
        },
        "outputId": "f53966de-e1aa-475e-d53b-e4d75e3aede7"
      },
      "source": [
        "path = untar_data(URLs.IMDB)\n",
        "path.ls()"
      ],
      "execution_count": 18,
      "outputs": [
        {
          "output_type": "stream",
          "text": [
            "Downloading https://s3.amazonaws.com/fast-ai-nlp/imdb.tgz\n"
          ],
          "name": "stdout"
        },
        {
          "output_type": "display_data",
          "data": {
            "text/html": [
              ""
            ],
            "text/plain": [
              "<IPython.core.display.HTML object>"
            ]
          },
          "metadata": {
            "tags": []
          }
        },
        {
          "output_type": "execute_result",
          "data": {
            "text/plain": [
              "[PosixPath('/root/.fastai/data/imdb/README'),\n",
              " PosixPath('/root/.fastai/data/imdb/unsup'),\n",
              " PosixPath('/root/.fastai/data/imdb/test'),\n",
              " PosixPath('/root/.fastai/data/imdb/train'),\n",
              " PosixPath('/root/.fastai/data/imdb/imdb.vocab'),\n",
              " PosixPath('/root/.fastai/data/imdb/tmp_lm'),\n",
              " PosixPath('/root/.fastai/data/imdb/tmp_clas')]"
            ]
          },
          "metadata": {
            "tags": []
          },
          "execution_count": 18
        }
      ]
    },
    {
      "cell_type": "code",
      "metadata": {
        "id": "R4iCY8d5dWXD",
        "colab_type": "code",
        "colab": {
          "base_uri": "https://localhost:8080/",
          "height": 86
        },
        "outputId": "d234fab9-381a-446f-bd2f-ef3147287374"
      },
      "source": [
        "(path/'train').ls()"
      ],
      "execution_count": 21,
      "outputs": [
        {
          "output_type": "execute_result",
          "data": {
            "text/plain": [
              "[PosixPath('/root/.fastai/data/imdb/train/pos'),\n",
              " PosixPath('/root/.fastai/data/imdb/train/unsupBow.feat'),\n",
              " PosixPath('/root/.fastai/data/imdb/train/labeledBow.feat'),\n",
              " PosixPath('/root/.fastai/data/imdb/train/neg')]"
            ]
          },
          "metadata": {
            "tags": []
          },
          "execution_count": 21
        }
      ]
    },
    {
      "cell_type": "code",
      "metadata": {
        "id": "C9sr39RtqLcR",
        "colab_type": "code",
        "colab": {
          "base_uri": "https://localhost:8080/",
          "height": 17
        },
        "outputId": "aac789c0-ca71-4065-be9e-143da9e359a3"
      },
      "source": [
        "data = (TextList.from_folder(path)\n",
        "          .filter_by_folder(include=['train', 'test', 'unsup'])\n",
        "          .split_by_rand_pct(0.1)\n",
        "          .label_for_lm()\n",
        "          .databunch(bs=bs))"
      ],
      "execution_count": 22,
      "outputs": [
        {
          "output_type": "display_data",
          "data": {
            "text/html": [
              ""
            ],
            "text/plain": [
              "<IPython.core.display.HTML object>"
            ]
          },
          "metadata": {
            "tags": []
          }
        },
        {
          "output_type": "display_data",
          "data": {
            "text/html": [
              ""
            ],
            "text/plain": [
              "<IPython.core.display.HTML object>"
            ]
          },
          "metadata": {
            "tags": []
          }
        }
      ]
    },
    {
      "cell_type": "code",
      "metadata": {
        "id": "0XY814DmeGmC",
        "colab_type": "code",
        "colab": {}
      },
      "source": [
        "data.save('data_lm.pkl')"
      ],
      "execution_count": 26,
      "outputs": []
    },
    {
      "cell_type": "code",
      "metadata": {
        "id": "EnwTlIEdsLhR",
        "colab_type": "code",
        "colab": {}
      },
      "source": [
        "data = load_data(path, 'data_lm.pkl', bs=bs)"
      ],
      "execution_count": 29,
      "outputs": []
    },
    {
      "cell_type": "code",
      "metadata": {
        "id": "p3SPCBRRsuVx",
        "colab_type": "code",
        "colab": {
          "base_uri": "https://localhost:8080/",
          "height": 293
        },
        "outputId": "93d55299-c061-46f0-bc64-c971d0610a5f"
      },
      "source": [
        "data.show_batch()"
      ],
      "execution_count": 30,
      "outputs": [
        {
          "output_type": "display_data",
          "data": {
            "text/html": [
              "<table border=\"1\" class=\"dataframe\">\n",
              "  <thead>\n",
              "    <tr style=\"text-align: right;\">\n",
              "      <th>idx</th>\n",
              "      <th>text</th>\n",
              "    </tr>\n",
              "  </thead>\n",
              "  <tbody>\n",
              "    <tr>\n",
              "      <td>0</td>\n",
              "      <td>on the fact that he was gay , unable to face up to the fact that it was her rejection of him that helped him along . xxmaj her second husband ( xxmaj steven xxmaj lang ) , not the boy 's father , is a little more lenient in his views , and this causes conflict . xxmaj when it 's obvious that two of the men at xxmaj</td>\n",
              "    </tr>\n",
              "    <tr>\n",
              "      <td>1</td>\n",
              "      <td>stop on a xxunk , and spin around to face the audience . xxmaj then they do the same thing again - and again ! xxmaj if that 's not enough to make you give up , then nothing is . xxbos xxmaj the xxmaj three xxmaj stooges has always been some of the many actors that i have loved . i love just about every one of the shorts</td>\n",
              "    </tr>\n",
              "    <tr>\n",
              "      <td>2</td>\n",
              "      <td>is in xxmaj alex xxmaj jones documentaries - that does not talk good for it . xxmaj no one wants to have any thing to do with it , because it is full of xxrep 4 xxunk . \\n \\n  and secondly : if xxmaj bush and the shadow - government where willing to kill 2000 - 3000 people 9 / 11 because of power , why do they</td>\n",
              "    </tr>\n",
              "    <tr>\n",
              "      <td>3</td>\n",
              "      <td>us that she has been studying seven years on psychology , and never finishing a sentence . xxmaj obviously she needs a shrink herself . xxmaj but the most funny guy is xxmaj lars xxmaj xxunk ( xxmaj xxunk ) . xxmaj he has so many one liners , that are right in the bulls eye . xxmaj especially the one over the shrink question theme : \" xxmaj if</td>\n",
              "    </tr>\n",
              "    <tr>\n",
              "      <td>4</td>\n",
              "      <td>. \\n \\n  3 ) xxmaj how can a helicopter fly as fast an an xxup f-16 ? \\n \\n  4 ) xxmaj how do you get a team composed of xxup exactly one xxmaj asian , one xxmaj latino , one xxmaj african - xxmaj american , one white woman and one homosexual ? \\n \\n  ... and that 's just the first hour . xxmaj</td>\n",
              "    </tr>\n",
              "  </tbody>\n",
              "</table>"
            ],
            "text/plain": [
              "<IPython.core.display.HTML object>"
            ]
          },
          "metadata": {
            "tags": []
          }
        }
      ]
    },
    {
      "cell_type": "code",
      "metadata": {
        "id": "XfDb_VWItEna",
        "colab_type": "code",
        "colab": {
          "base_uri": "https://localhost:8080/",
          "height": 34
        },
        "outputId": "40e3527c-4483-4a91-c384-9a003cd4df50"
      },
      "source": [
        "learn = language_model_learner(data, AWD_LSTM, drop_mult=0.3)"
      ],
      "execution_count": 32,
      "outputs": [
        {
          "output_type": "stream",
          "text": [
            "Downloading https://s3.amazonaws.com/fast-ai-modelzoo/wt103-fwd.tgz\n"
          ],
          "name": "stdout"
        },
        {
          "output_type": "display_data",
          "data": {
            "text/html": [
              ""
            ],
            "text/plain": [
              "<IPython.core.display.HTML object>"
            ]
          },
          "metadata": {
            "tags": []
          }
        }
      ]
    },
    {
      "cell_type": "code",
      "metadata": {
        "id": "jVkZDruZt5I4",
        "colab_type": "code",
        "colab": {
          "base_uri": "https://localhost:8080/",
          "height": 113
        },
        "outputId": "e8e7b41b-a695-4cd1-e9e2-75ce5790e215"
      },
      "source": [
        "learn.lr_find()"
      ],
      "execution_count": 33,
      "outputs": [
        {
          "output_type": "display_data",
          "data": {
            "text/html": [
              "\n",
              "    <div>\n",
              "        <style>\n",
              "            /* Turns off some styling */\n",
              "            progress {\n",
              "                /* gets rid of default border in Firefox and Opera. */\n",
              "                border: none;\n",
              "                /* Needs to be in here for Safari polyfill so background images work as expected. */\n",
              "                background-size: auto;\n",
              "            }\n",
              "            .progress-bar-interrupted, .progress-bar-interrupted::-webkit-progress-bar {\n",
              "                background: #F44336;\n",
              "            }\n",
              "        </style>\n",
              "      <progress value='0' class='' max='1' style='width:300px; height:20px; vertical-align: middle;'></progress>\n",
              "      0.00% [0/1 00:00<00:00]\n",
              "    </div>\n",
              "    \n",
              "<table border=\"1\" class=\"dataframe\">\n",
              "  <thead>\n",
              "    <tr style=\"text-align: left;\">\n",
              "      <th>epoch</th>\n",
              "      <th>train_loss</th>\n",
              "      <th>valid_loss</th>\n",
              "      <th>accuracy</th>\n",
              "      <th>time</th>\n",
              "    </tr>\n",
              "  </thead>\n",
              "  <tbody>\n",
              "  </tbody>\n",
              "</table><p>\n",
              "\n",
              "    <div>\n",
              "        <style>\n",
              "            /* Turns off some styling */\n",
              "            progress {\n",
              "                /* gets rid of default border in Firefox and Opera. */\n",
              "                border: none;\n",
              "                /* Needs to be in here for Safari polyfill so background images work as expected. */\n",
              "                background-size: auto;\n",
              "            }\n",
              "            .progress-bar-interrupted, .progress-bar-interrupted::-webkit-progress-bar {\n",
              "                background: #F44336;\n",
              "            }\n",
              "        </style>\n",
              "      <progress value='99' class='' max='8050' style='width:300px; height:20px; vertical-align: middle;'></progress>\n",
              "      1.23% [99/8050 01:03<1:24:28 11.2370]\n",
              "    </div>\n",
              "    "
            ],
            "text/plain": [
              "<IPython.core.display.HTML object>"
            ]
          },
          "metadata": {
            "tags": []
          }
        },
        {
          "output_type": "stream",
          "text": [
            "LR Finder is complete, type {learner_name}.recorder.plot() to see the graph.\n"
          ],
          "name": "stdout"
        }
      ]
    },
    {
      "cell_type": "code",
      "metadata": {
        "id": "wrjzvXEiuAdY",
        "colab_type": "code",
        "colab": {
          "base_uri": "https://localhost:8080/",
          "height": 279
        },
        "outputId": "8858437e-7c9b-4148-fd24-81b735ee0825"
      },
      "source": [
        "learn.recorder.plot(skip_end=15)"
      ],
      "execution_count": 34,
      "outputs": [
        {
          "output_type": "display_data",
          "data": {
            "image/png": "[encoded data removed]",
            "text/plain": [
              "<Figure size 432x288 with 1 Axes>"
            ]
          },
          "metadata": {
            "tags": [],
            "needs_background": "light"
          }
        }
      ]
    },
    {
      "cell_type": "code",
      "metadata": {
        "id": "G2Cj80q8uenS",
        "colab_type": "code",
        "colab": {
          "base_uri": "https://localhost:8080/",
          "height": 81
        },
        "outputId": "1c33171a-aadf-43f2-bb91-0625e081139e"
      },
      "source": [
        "learn.fit_one_cycle(1, 1e-2, moms=(0.8,0.7))"
      ],
      "execution_count": 35,
      "outputs": [
        {
          "output_type": "display_data",
          "data": {
            "text/html": [
              "<table border=\"1\" class=\"dataframe\">\n",
              "  <thead>\n",
              "    <tr style=\"text-align: left;\">\n",
              "      <th>epoch</th>\n",
              "      <th>train_loss</th>\n",
              "      <th>valid_loss</th>\n",
              "      <th>accuracy</th>\n",
              "      <th>time</th>\n",
              "    </tr>\n",
              "  </thead>\n",
              "  <tbody>\n",
              "    <tr>\n",
              "      <td>0</td>\n",
              "      <td>4.163165</td>\n",
              "      <td>4.014333</td>\n",
              "      <td>0.295657</td>\n",
              "      <td>1:29:09</td>\n",
              "    </tr>\n",
              "  </tbody>\n",
              "</table>"
            ],
            "text/plain": [
              "<IPython.core.display.HTML object>"
            ]
          },
          "metadata": {
            "tags": []
          }
        }
      ]
    },
    {
      "cell_type": "code",
      "metadata": {
        "id": "B08JiwP8ukCU",
        "colab_type": "code",
        "colab": {}
      },
      "source": [
        "learn.save('fit_head')"
      ],
      "execution_count": 36,
      "outputs": []
    },
    {
      "cell_type": "code",
      "metadata": {
        "id": "TxYTLQG2Djd2",
        "colab_type": "code",
        "colab": {}
      },
      "source": [
        "TEXT = \"I liked this movie because\"\n",
        "N_WORDS = 40\n",
        "N_SENTENCES = 2"
      ],
      "execution_count": 37,
      "outputs": []
    },
    {
      "cell_type": "code",
      "metadata": {
        "id": "8LF8SoGFDnJf",
        "colab_type": "code",
        "colab": {
          "base_uri": "https://localhost:8080/",
          "height": 72
        },
        "outputId": "652da21b-c9e0-47a0-c58d-5e9212bbe4f7"
      },
      "source": [
        "print(\"\\n\".join(learn.predict(TEXT, N_WORDS, temperature=0.75) for _ in range(N_SENTENCES)))"
      ],
      "execution_count": 38,
      "outputs": [
        {
          "output_type": "stream",
          "text": [
            "I liked this movie because of all the good moments of the film . The story is about Kevin Costner 's kind of brutal , brutal murder and fear of death . The film is a good and touching film ,\n",
            "I liked this movie because it is a movie that i saw for fans of The Movie Series . It 's not a movie that i loved . It 's not a great movie but it 's a sick pleasure\n"
          ],
          "name": "stdout"
        }
      ]
    },
    {
      "cell_type": "code",
      "metadata": {
        "id": "AuVx-I9mDow5",
        "colab_type": "code",
        "colab": {}
      },
      "source": [
        "learn.save_encoder('fine_tuned_enc')"
      ],
      "execution_count": 39,
      "outputs": []
    },
    {
      "cell_type": "code",
      "metadata": {
        "id": "wg15XqDQDyhT",
        "colab_type": "code",
        "colab": {}
      },
      "source": [
        "path = untar_data(URLs.IMDB)"
      ],
      "execution_count": 40,
      "outputs": []
    },
    {
      "cell_type": "code",
      "metadata": {
        "id": "v5GNn0-kD0wD",
        "colab_type": "code",
        "colab": {
          "base_uri": "https://localhost:8080/",
          "height": 17
        },
        "outputId": "e0a1d786-58b8-483b-d9df-8c44fc19eb2f"
      },
      "source": [
        "data_clas = (TextList.from_folder(path, vocab=data.vocab)\n",
        "              .split_by_folder(valid='test')\n",
        "              .label_from_folder(classes=['neg', 'pos'])\n",
        "              .databunch(bs=bs))"
      ],
      "execution_count": 43,
      "outputs": [
        {
          "output_type": "display_data",
          "data": {
            "text/html": [
              ""
            ],
            "text/plain": [
              "<IPython.core.display.HTML object>"
            ]
          },
          "metadata": {
            "tags": []
          }
        },
        {
          "output_type": "display_data",
          "data": {
            "text/html": [
              ""
            ],
            "text/plain": [
              "<IPython.core.display.HTML object>"
            ]
          },
          "metadata": {
            "tags": []
          }
        }
      ]
    },
    {
      "cell_type": "code",
      "metadata": {
        "id": "rVhbpz37EVoU",
        "colab_type": "code",
        "colab": {}
      },
      "source": [
        "data_clas.save('data_clas.pkl')"
      ],
      "execution_count": 44,
      "outputs": []
    },
    {
      "cell_type": "code",
      "metadata": {
        "id": "DKtX-akyEbb4",
        "colab_type": "code",
        "colab": {}
      },
      "source": [
        "data_clas = load_data(path, 'data_clas.pkl', bs=bs)"
      ],
      "execution_count": 45,
      "outputs": []
    },
    {
      "cell_type": "code",
      "metadata": {
        "id": "JPuKKYA5EmGo",
        "colab_type": "code",
        "colab": {
          "base_uri": "https://localhost:8080/",
          "height": 328
        },
        "outputId": "f3109caf-0652-4052-c68d-02731303d78a"
      },
      "source": [
        "data_clas.show_batch()"
      ],
      "execution_count": 46,
      "outputs": [
        {
          "output_type": "display_data",
          "data": {
            "text/html": [
              "<table border=\"1\" class=\"dataframe\">\n",
              "  <thead>\n",
              "    <tr style=\"text-align: right;\">\n",
              "      <th>text</th>\n",
              "      <th>target</th>\n",
              "    </tr>\n",
              "  </thead>\n",
              "  <tbody>\n",
              "    <tr>\n",
              "      <td>xxbos xxmaj match 1 : xxmaj tag xxmaj team xxmaj table xxmaj match xxmaj bubba xxmaj ray and xxmaj spike xxmaj dudley vs xxmaj eddie xxmaj guerrero and xxmaj chris xxmaj benoit xxmaj bubba xxmaj ray and xxmaj spike xxmaj dudley started things off with a xxmaj tag xxmaj team xxmaj table xxmaj match against xxmaj eddie xxmaj guerrero and xxmaj chris xxmaj benoit . xxmaj according to the rules</td>\n",
              "      <td>pos</td>\n",
              "    </tr>\n",
              "    <tr>\n",
              "      <td>xxbos xxmaj titanic directed by xxmaj james xxmaj cameron presents a fictional love story on the historical setting of the xxmaj titanic . xxmaj the plot is simple , xxunk , or not for those who love plots that twist and turn and keep you in suspense . xxmaj the end of the movie can be figured out within minutes of the start of the film , but the love</td>\n",
              "      <td>pos</td>\n",
              "    </tr>\n",
              "    <tr>\n",
              "      <td>xxbos xxmaj warning : xxmaj does contain spoilers . \\n \\n  xxmaj open xxmaj your xxmaj eyes \\n \\n  xxmaj if you have not seen this film and plan on doing so , just stop reading here and take my word for it . xxmaj you have to see this film . i have seen it four times so far and i still have n't made up my</td>\n",
              "      <td>pos</td>\n",
              "    </tr>\n",
              "    <tr>\n",
              "      <td>xxbos xxunk ) is the developing world 's answer to xxmaj silence of the xxmaj lambs . xxmaj where ` xxmaj silence ' terrorized our peace of mind , ` xxmaj citizen ' exhausts and saddens us instead . xxmaj this dramatization of the xxmaj chikatilo case translates rather well , thanks to a xxmaj westernized friendship between two xxmaj rostov cops who become equals . \\n \\n  xxunk</td>\n",
              "      <td>pos</td>\n",
              "    </tr>\n",
              "    <tr>\n",
              "      <td>xxbos i 've rented and watched this movie for the 1st time on xxup dvd without reading any reviews about it . xxmaj so , after 15 minutes of watching i 've noticed that something is wrong with this movie ; it 's xxup terrible ! i mean , in the trailers it looked scary and serious ! \\n \\n  i think that xxmaj eli xxmaj roth ( xxmaj</td>\n",
              "      <td>neg</td>\n",
              "    </tr>\n",
              "  </tbody>\n",
              "</table>"
            ],
            "text/plain": [
              "<IPython.core.display.HTML object>"
            ]
          },
          "metadata": {
            "tags": []
          }
        }
      ]
    },
    {
      "cell_type": "code",
      "metadata": {
        "id": "24epNdiOEmmP",
        "colab_type": "code",
        "colab": {
          "base_uri": "https://localhost:8080/",
          "height": 1000
        },
        "outputId": "28363189-e018-4b67-e845-d67cce9b6e27"
      },
      "source": [
        "learn = text_classifier_learner(data_clas, AWD_LSTM, drop_mult=0.5)\n",
        "learn.load_encoder('fine_tuned_enc')"
      ],
      "execution_count": 47,
      "outputs": [
        {
          "output_type": "execute_result",
          "data": {
            "text/plain": [
              "RNNLearner(data=TextClasDataBunch;\n",
              "\n",
              "Train: LabelList (25000 items)\n",
              "x: TextList\n",
              "xxbos xxmaj bela made 9 pics for xxmaj monogram , but it was only at xxup this one , the xxup 4th , that things started to come together . xxmaj all the rest in the series would use this one as the essential template for production , writing and character development . xxmaj from here on , better or worse , the series would also deal with one essential theme : a scientist ( usually xxmaj bela ) makes experiments in the basement or the old house ( sometimes xxup in the basement in the old house ) that causes things to go xxunk . xxmaj this was also the first time that xxmaj art xxmaj director xxmaj dave xxmaj milton got a chance to spread his wings . xxmaj he came on board for xxup black xxup dragons , the flick before , but xxup this one is where he gets to make his craft start to click . xxmaj lewis made great atmosphere for next to nothing , and was around for all the rest of the xxmaj xxunk . xxmaj casting is key in these , and it 's a pretty good one b movie wise , here . xxmaj you get xxmaj barclay and xxmaj harlen ( also from xxup black xxunk with xxmaj russell , who would star in xxmaj xxunk ' xxup cat xxup people movies .. and xxmaj xxunk , from xxup spooks xxup run xxup wild ... a nice slice of xxmaj poverty xxmaj row talent . xxmaj if you have limited time and budget , start with this one ... it sums up everything they had learned up to this point , and gives you something to compare the rest to . xxmaj the plot ? xxmaj bela steals gland juice to keep his nasty wife young . xxmaj they both like to sleep in coffins . xxmaj if you can read that and smile , the rest will be easy .,xxbos xxmaj as it was already put , the best version ever of xxmaj homer 's epic . xxmaj entirely shot in natural locations in the xxmaj mediterranean . xxmaj the sea and the sky are strikingly blue , the islands green and untouched . xxmaj the clothing is linen , wool and fur , the settings stony and bare , everything is somewhat rugged and primitive , a bit what you would find in xxmaj cacoyannis or xxmaj pasolini movies , and it makes it all the more authentic . xxmaj although the story is based on myths and widely goes into supernatural , it gives us a good idea of what life in the 10th century xxup bc might have been like . \n",
              " \n",
              "  xxmaj the rhythm is somewhat slow and austere , but the whole is so beautiful that you quickly get into it . xxmaj actually , it is amazingly close to the original plot by xxmaj homer , if not to the text itself . xxmaj ulysses does n't appear until the first hour , the start being centered on his son looking after him . xxmaj then he suddenly appears lost in a storm , lands on the island of the xxmaj xxunk where the royal family takes good care of him . xxmaj his adventures are told in flashback as a narration to his hosts : the terrifying xxmaj xxunk , the magic world of xxmaj xxunk , the xxmaj underworld , the xxmaj sirens etc . xxmaj he finally comes back to his homeland xxmaj xxunk after 20 years , and it all ends dramatically with the killing of the pretenders of his faithful spouse xxmaj penelope . \n",
              " \n",
              "  xxmaj as a story , the xxmaj odyssey is an unparalleled metaphor of the struggles of a man 's life . xxmaj the cast is brilliant and international here . xxmaj irene xxmaj papas gives us a typical xxmaj greek tragedy style performance as xxmaj penelope , but most amazing is the xxmaj albanian actor xxmaj xxunk xxmaj xxunk as xxmaj ulysses . xxmaj really good looking and totally convincing , it seems the role was really made for him . xxmaj strange that he was never offered roles of this dimension afterwards . xxmaj also playing xxmaj nausicaa is xxmaj barbara xxmaj bach ( as xxmaj barbara xxmaj xxunk ) later famous as the xxmaj james xxmaj bond girl in \" xxmaj the xxmaj spy xxmaj who xxmaj loved xxmaj me \" , and playing xxmaj athena is xxmaj michele xxmaj breton , who was otherwise noted in the strange movie called \" xxmaj performance \" with xxmaj mick xxmaj jagger . \n",
              " \n",
              "  xxmaj as it was done 35 years ago , the series was actually quite an innovation for its time , as the first big xxmaj european co - production for xxup tv ( xxmaj italy , xxmaj france , xxmaj germany and xxmaj yugoslavia ) . i have seen this mini - series in 8 parts on xxmaj french television as far back as 1974 . i was a kid back then , and although it was all in black and white , it left a very vivid impression . xxmaj all my life long i wondered if i would ever get a chance to see it again , as it was never shown on xxmaj french xxup tv later on . \n",
              " \n",
              "  i recently found a copy on xxup dvd ( all in wonderful color ) through xxmaj internet . xxmaj it is unfortunately only in xxmaj italian with no subtitles , although xxmaj french and xxmaj german versions existed back then . i never heard there was any xxmaj english version of this film as it is widely unknown in the xxmaj anglo xxmaj saxon world , and it 's quite a shame . xxmaj if you ever get a chance to watch this , you are not going to forget it ever . \n",
              " \n",
              "  xxmaj there were not many versions of the xxmaj odyssey before or after that . xxmaj the one by xxmaj xxunk in 1955 starring xxmaj kirk xxmaj douglas is a classic sword - and - sandal like \" the 10 xxmaj commandments \" , but not as impressive and very short for such a complex story . xxmaj the one in 1997 by xxmaj konchalovsky is a meretricious xxmaj hollywood movie , based on special effects , sometimes quite gory , very poorly acted and grossly afar from xxmaj homer 's story and atmosphere .,xxbos xxmaj ray xxmaj liotta and xxmaj tom xxmaj hulce shine in this sterling example of brotherly love and commitment . xxmaj hulce plays xxmaj dominick , ( xxmaj nicky ) a mildly mentally handicapped young man who is putting his 12 minutes younger , twin brother , xxmaj liotta , who plays xxmaj eugene , through medical school . xxmaj it is set in xxmaj baltimore and deals with the issues of sibling rivalry , the unbreakable bond of twins , child abuse and good always winning out over evil . xxmaj it is captivating , and filled with laughter and tears . xxmaj if you have not yet seen this film , please rent it , i promise , you 'll be amazed at how such a wonderful film could go un - noticed .,xxbos xxmaj even though it has one of the standard \" xxmaj revenge xxmaj price xxmaj plots , \" this film is my favorite of xxmaj vincent xxmaj price 's work . xxmaj gallico has that quality that is missing in so many horror film characters- likeability . xxmaj when you watch it , you feel for him , you feel his frustration , the injustices against him , and you cheer him on when he goes for vengeance , even though he frightens you a little with his original fury . xxmaj as the film goes on , his character becomes tragic . xxmaj he 's committed his murder , but now he must kill to cover that up . xxmaj and again to cover that one up . xxmaj and again ... your stomach sinks with his soul as it goes down its xxunk like watching a beloved brother turn into a hood . xxmaj even if the revenge story is of old , the plot devices themselves are original- xxmaj gallico uses his tricks to kill in more and more inventive ways . a shame this one is n't available for home xxunk .,xxbos a priest who has abandoned his ministry meets a young man who has just been ordained . \n",
              " \n",
              "  xxmaj this movie is about the cruel dilemma between a life dedicated to xxmaj god and faith and a life of more earthly pleasures . xxmaj in post war xxmaj france it is also about the mortal aspect of xxmaj faith itself . \n",
              " \n",
              "  xxmaj this may not be the movie of a lifetime but it is a sin to have allowed it to fall in oblivion . xxmaj besides , xxmaj pierre xxmaj fresnay is sublime .\n",
              "y: CategoryList\n",
              "pos,pos,pos,pos,pos\n",
              "Path: /root/.fastai/data/imdb;\n",
              "\n",
              "Valid: LabelList (25000 items)\n",
              "x: TextList\n",
              "xxbos xxmaj it started off weird , the middle was weird , and the ending was weird , but i really , really liked it . a modern day version of xxmaj homer 's xxmaj xxunk but that is really irrelevant . xxmaj interesting story and casting . xxmaj clooney was great and i applaud him for taking on such an xxunk role - so unlike anything he has done or ever will do again . xxmaj lots of surprise stars - why is n't xxmaj holly xxmaj hunter in more . xxmaj do something different tonight and watch this really different and unexpected flick .,xxbos xxmaj pitch xxmaj black is a surprisingly good movie . i was not a fan of xxmaj vin diesel before i saw xxmaj pitch black , but after seeing xxmaj pitch xxmaj black my respect for xxmaj vin xxmaj diesel has gone up . xxmaj he did a great job playing xxmaj riddick a man wanted for many murders . xxmaj his character is cold and makes many decisions that surprised me , like near the end xxmaj riddick was going to get on the ship and save his own ass leaving everyone behind to die . i like this movie and how it deals with human instinct . xxmaj this movie is low budget but this movie goes to show you do n't need amazing special effects and lots of money to make a good movie , i think all the characters made this movie . i give this movie 8 out of 10 ;),xxbos xxmaj mani is back wit a xxmaj xxunk ) he manages to capture the mental trauma of a small girl searching 4 her mother they way he goes about showing the problems - in xxmaj ceylon is a treat .. .. xxmaj tis movie is a must xxunk musical score does enhance the viewing pleasure .. xxmaj rahman a find of xxmaj rathnam has given some great tunes the lyrics r apt 4 the movie the locations used for the movie are very good and makes viewing pleasant the movie starts of in a light manner moves over to capture the feelings of the girl finally goes on o shed light into the life of people in war torn places across the world this is yet another classic from xxunk,xxbos xxmaj saw this film when it was an entry in xxmaj santa xxmaj fe xxmaj film xxmaj festival . xxmaj heavy film ! xxmaj depiction of a completely dysfunctional family taken to another level of the extreme , might have left me depressed to the extreme , had it not been for very funny sight gags and dialogue along the way which lightened the film 's overall tone . xxmaj the relatively \" uplifting \" ending gave hope for those affected by the initial tragedy . xxmaj still , i did not walk out of the theatre ready to go to a fun party . xxmaj the film stayed with me for several days . \n",
              " \n",
              "  xxmaj brought back memories of \" xxmaj ordinary xxmaj people \" , but with humor mixed in with the tragedy . i thought the acting was excellent , especially by xxmaj sigourney xxmaj weaver and xxmaj emile xxmaj xxunk . xxmaj how each character dealt with the tragedy was at times sad , self - defeating , but also at times hilarious . xxmaj clever dialogue , and situations .,xxbos a skillfully directed film by xxmaj martin xxmaj ritt where a drifter and anti - hero , xxmaj john xxmaj cassevetes lands in xxup n.y. to escape a tragic incident in his life , where he killed his brother in an automobile accident as well as going xxup awol from the army . \n",
              " \n",
              "  xxmaj cassavetes , always an intense actor , shows grit in his portrayal of a film . xxmaj am surprised that xxmaj montgomery xxmaj clift did n't get this part . \n",
              " \n",
              "  xxmaj ruth xxmaj white is his mother and does remarkably well in two scenes on the telephone . \n",
              " \n",
              "  xxmaj once in xxmaj new xxmaj york , he befriends xxmaj sidney xxmaj poitier as the two work on the docks . xxmaj immediately , xxmaj jack xxmaj warden , a bully and villain in this film , takes a dislike to him and tragedy ensues when xxmaj poitier tries to defend his friend . \n",
              " \n",
              "  xxmaj ruby xxmaj dee , plays xxmaj poitier 's wife in this film , and is brilliant in a scene where she urges xxmaj cassavetes to reveal the killer of her husband . \n",
              " \n",
              "  xxmaj this is definitely an interesting film of moral values and the loner in society . xxmaj with the backdrop of tenements , the right mood is depicted in the film .\n",
              "y: CategoryList\n",
              "pos,pos,pos,pos,pos\n",
              "Path: /root/.fastai/data/imdb;\n",
              "\n",
              "Test: None, model=SequentialRNN(\n",
              "  (0): MultiBatchEncoder(\n",
              "    (module): AWD_LSTM(\n",
              "      (encoder): Embedding(60000, 400, padding_idx=1)\n",
              "      (encoder_dp): EmbeddingDropout(\n",
              "        (emb): Embedding(60000, 400, padding_idx=1)\n",
              "      )\n",
              "      (rnns): ModuleList(\n",
              "        (0): WeightDropout(\n",
              "          (module): LSTM(400, 1152, batch_first=True)\n",
              "        )\n",
              "        (1): WeightDropout(\n",
              "          (module): LSTM(1152, 1152, batch_first=True)\n",
              "        )\n",
              "        (2): WeightDropout(\n",
              "          (module): LSTM(1152, 400, batch_first=True)\n",
              "        )\n",
              "      )\n",
              "      (input_dp): RNNDropout()\n",
              "      (hidden_dps): ModuleList(\n",
              "        (0): RNNDropout()\n",
              "        (1): RNNDropout()\n",
              "        (2): RNNDropout()\n",
              "      )\n",
              "    )\n",
              "  )\n",
              "  (1): PoolingLinearClassifier(\n",
              "    (layers): Sequential(\n",
              "      (0): BatchNorm1d(1200, eps=1e-05, momentum=0.1, affine=True, track_running_stats=True)\n",
              "      (1): Dropout(p=0.2, inplace=False)\n",
              "      (2): Linear(in_features=1200, out_features=50, bias=True)\n",
              "      (3): ReLU(inplace=True)\n",
              "      (4): BatchNorm1d(50, eps=1e-05, momentum=0.1, affine=True, track_running_stats=True)\n",
              "      (5): Dropout(p=0.1, inplace=False)\n",
              "      (6): Linear(in_features=50, out_features=2, bias=True)\n",
              "    )\n",
              "  )\n",
              "), opt_func=functools.partial(<class 'torch.optim.adam.Adam'>, betas=(0.9, 0.99)), loss_func=FlattenedLoss of CrossEntropyLoss(), metrics=[<function accuracy at 0x7f2b211b8c80>], true_wd=True, bn_wd=True, wd=0.01, train_bn=True, path=PosixPath('/root/.fastai/data/imdb'), model_dir='models', callback_fns=[functools.partial(<class 'fastai.basic_train.Recorder'>, add_time=True, silent=False)], callbacks=[RNNTrainer\n",
              "learn: RNNLearner(data=TextClasDataBunch;\n",
              "\n",
              "Train: LabelList (25000 items)\n",
              "x: TextList\n",
              "xxbos xxmaj bela made 9 pics for xxmaj monogram , but it was only at xxup this one , the xxup 4th , that things started to come together . xxmaj all the rest in the series would use this one as the essential template for production , writing and character development . xxmaj from here on , better or worse , the series would also deal with one essential theme : a scientist ( usually xxmaj bela ) makes experiments in the basement or the old house ( sometimes xxup in the basement in the old house ) that causes things to go xxunk . xxmaj this was also the first time that xxmaj art xxmaj director xxmaj dave xxmaj milton got a chance to spread his wings . xxmaj he came on board for xxup black xxup dragons , the flick before , but xxup this one is where he gets to make his craft start to click . xxmaj lewis made great atmosphere for next to nothing , and was around for all the rest of the xxmaj xxunk . xxmaj casting is key in these , and it 's a pretty good one b movie wise , here . xxmaj you get xxmaj barclay and xxmaj harlen ( also from xxup black xxunk with xxmaj russell , who would star in xxmaj xxunk ' xxup cat xxup people movies .. and xxmaj xxunk , from xxup spooks xxup run xxup wild ... a nice slice of xxmaj poverty xxmaj row talent . xxmaj if you have limited time and budget , start with this one ... it sums up everything they had learned up to this point , and gives you something to compare the rest to . xxmaj the plot ? xxmaj bela steals gland juice to keep his nasty wife young . xxmaj they both like to sleep in coffins . xxmaj if you can read that and smile , the rest will be easy .,xxbos xxmaj as it was already put , the best version ever of xxmaj homer 's epic . xxmaj entirely shot in natural locations in the xxmaj mediterranean . xxmaj the sea and the sky are strikingly blue , the islands green and untouched . xxmaj the clothing is linen , wool and fur , the settings stony and bare , everything is somewhat rugged and primitive , a bit what you would find in xxmaj cacoyannis or xxmaj pasolini movies , and it makes it all the more authentic . xxmaj although the story is based on myths and widely goes into supernatural , it gives us a good idea of what life in the 10th century xxup bc might have been like . \n",
              " \n",
              "  xxmaj the rhythm is somewhat slow and austere , but the whole is so beautiful that you quickly get into it . xxmaj actually , it is amazingly close to the original plot by xxmaj homer , if not to the text itself . xxmaj ulysses does n't appear until the first hour , the start being centered on his son looking after him . xxmaj then he suddenly appears lost in a storm , lands on the island of the xxmaj xxunk where the royal family takes good care of him . xxmaj his adventures are told in flashback as a narration to his hosts : the terrifying xxmaj xxunk , the magic world of xxmaj xxunk , the xxmaj underworld , the xxmaj sirens etc . xxmaj he finally comes back to his homeland xxmaj xxunk after 20 years , and it all ends dramatically with the killing of the pretenders of his faithful spouse xxmaj penelope . \n",
              " \n",
              "  xxmaj as a story , the xxmaj odyssey is an unparalleled metaphor of the struggles of a man 's life . xxmaj the cast is brilliant and international here . xxmaj irene xxmaj papas gives us a typical xxmaj greek tragedy style performance as xxmaj penelope , but most amazing is the xxmaj albanian actor xxmaj xxunk xxmaj xxunk as xxmaj ulysses . xxmaj really good looking and totally convincing , it seems the role was really made for him . xxmaj strange that he was never offered roles of this dimension afterwards . xxmaj also playing xxmaj nausicaa is xxmaj barbara xxmaj bach ( as xxmaj barbara xxmaj xxunk ) later famous as the xxmaj james xxmaj bond girl in \" xxmaj the xxmaj spy xxmaj who xxmaj loved xxmaj me \" , and playing xxmaj athena is xxmaj michele xxmaj breton , who was otherwise noted in the strange movie called \" xxmaj performance \" with xxmaj mick xxmaj jagger . \n",
              " \n",
              "  xxmaj as it was done 35 years ago , the series was actually quite an innovation for its time , as the first big xxmaj european co - production for xxup tv ( xxmaj italy , xxmaj france , xxmaj germany and xxmaj yugoslavia ) . i have seen this mini - series in 8 parts on xxmaj french television as far back as 1974 . i was a kid back then , and although it was all in black and white , it left a very vivid impression . xxmaj all my life long i wondered if i would ever get a chance to see it again , as it was never shown on xxmaj french xxup tv later on . \n",
              " \n",
              "  i recently found a copy on xxup dvd ( all in wonderful color ) through xxmaj internet . xxmaj it is unfortunately only in xxmaj italian with no subtitles , although xxmaj french and xxmaj german versions existed back then . i never heard there was any xxmaj english version of this film as it is widely unknown in the xxmaj anglo xxmaj saxon world , and it 's quite a shame . xxmaj if you ever get a chance to watch this , you are not going to forget it ever . \n",
              " \n",
              "  xxmaj there were not many versions of the xxmaj odyssey before or after that . xxmaj the one by xxmaj xxunk in 1955 starring xxmaj kirk xxmaj douglas is a classic sword - and - sandal like \" the 10 xxmaj commandments \" , but not as impressive and very short for such a complex story . xxmaj the one in 1997 by xxmaj konchalovsky is a meretricious xxmaj hollywood movie , based on special effects , sometimes quite gory , very poorly acted and grossly afar from xxmaj homer 's story and atmosphere .,xxbos xxmaj ray xxmaj liotta and xxmaj tom xxmaj hulce shine in this sterling example of brotherly love and commitment . xxmaj hulce plays xxmaj dominick , ( xxmaj nicky ) a mildly mentally handicapped young man who is putting his 12 minutes younger , twin brother , xxmaj liotta , who plays xxmaj eugene , through medical school . xxmaj it is set in xxmaj baltimore and deals with the issues of sibling rivalry , the unbreakable bond of twins , child abuse and good always winning out over evil . xxmaj it is captivating , and filled with laughter and tears . xxmaj if you have not yet seen this film , please rent it , i promise , you 'll be amazed at how such a wonderful film could go un - noticed .,xxbos xxmaj even though it has one of the standard \" xxmaj revenge xxmaj price xxmaj plots , \" this film is my favorite of xxmaj vincent xxmaj price 's work . xxmaj gallico has that quality that is missing in so many horror film characters- likeability . xxmaj when you watch it , you feel for him , you feel his frustration , the injustices against him , and you cheer him on when he goes for vengeance , even though he frightens you a little with his original fury . xxmaj as the film goes on , his character becomes tragic . xxmaj he 's committed his murder , but now he must kill to cover that up . xxmaj and again to cover that one up . xxmaj and again ... your stomach sinks with his soul as it goes down its xxunk like watching a beloved brother turn into a hood . xxmaj even if the revenge story is of old , the plot devices themselves are original- xxmaj gallico uses his tricks to kill in more and more inventive ways . a shame this one is n't available for home xxunk .,xxbos a priest who has abandoned his ministry meets a young man who has just been ordained . \n",
              " \n",
              "  xxmaj this movie is about the cruel dilemma between a life dedicated to xxmaj god and faith and a life of more earthly pleasures . xxmaj in post war xxmaj france it is also about the mortal aspect of xxmaj faith itself . \n",
              " \n",
              "  xxmaj this may not be the movie of a lifetime but it is a sin to have allowed it to fall in oblivion . xxmaj besides , xxmaj pierre xxmaj fresnay is sublime .\n",
              "y: CategoryList\n",
              "pos,pos,pos,pos,pos\n",
              "Path: /root/.fastai/data/imdb;\n",
              "\n",
              "Valid: LabelList (25000 items)\n",
              "x: TextList\n",
              "xxbos xxmaj it started off weird , the middle was weird , and the ending was weird , but i really , really liked it . a modern day version of xxmaj homer 's xxmaj xxunk but that is really irrelevant . xxmaj interesting story and casting . xxmaj clooney was great and i applaud him for taking on such an xxunk role - so unlike anything he has done or ever will do again . xxmaj lots of surprise stars - why is n't xxmaj holly xxmaj hunter in more . xxmaj do something different tonight and watch this really different and unexpected flick .,xxbos xxmaj pitch xxmaj black is a surprisingly good movie . i was not a fan of xxmaj vin diesel before i saw xxmaj pitch black , but after seeing xxmaj pitch xxmaj black my respect for xxmaj vin xxmaj diesel has gone up . xxmaj he did a great job playing xxmaj riddick a man wanted for many murders . xxmaj his character is cold and makes many decisions that surprised me , like near the end xxmaj riddick was going to get on the ship and save his own ass leaving everyone behind to die . i like this movie and how it deals with human instinct . xxmaj this movie is low budget but this movie goes to show you do n't need amazing special effects and lots of money to make a good movie , i think all the characters made this movie . i give this movie 8 out of 10 ;),xxbos xxmaj mani is back wit a xxmaj xxunk ) he manages to capture the mental trauma of a small girl searching 4 her mother they way he goes about showing the problems - in xxmaj ceylon is a treat .. .. xxmaj tis movie is a must xxunk musical score does enhance the viewing pleasure .. xxmaj rahman a find of xxmaj rathnam has given some great tunes the lyrics r apt 4 the movie the locations used for the movie are very good and makes viewing pleasant the movie starts of in a light manner moves over to capture the feelings of the girl finally goes on o shed light into the life of people in war torn places across the world this is yet another classic from xxunk,xxbos xxmaj saw this film when it was an entry in xxmaj santa xxmaj fe xxmaj film xxmaj festival . xxmaj heavy film ! xxmaj depiction of a completely dysfunctional family taken to another level of the extreme , might have left me depressed to the extreme , had it not been for very funny sight gags and dialogue along the way which lightened the film 's overall tone . xxmaj the relatively \" uplifting \" ending gave hope for those affected by the initial tragedy . xxmaj still , i did not walk out of the theatre ready to go to a fun party . xxmaj the film stayed with me for several days . \n",
              " \n",
              "  xxmaj brought back memories of \" xxmaj ordinary xxmaj people \" , but with humor mixed in with the tragedy . i thought the acting was excellent , especially by xxmaj sigourney xxmaj weaver and xxmaj emile xxmaj xxunk . xxmaj how each character dealt with the tragedy was at times sad , self - defeating , but also at times hilarious . xxmaj clever dialogue , and situations .,xxbos a skillfully directed film by xxmaj martin xxmaj ritt where a drifter and anti - hero , xxmaj john xxmaj cassevetes lands in xxup n.y. to escape a tragic incident in his life , where he killed his brother in an automobile accident as well as going xxup awol from the army . \n",
              " \n",
              "  xxmaj cassavetes , always an intense actor , shows grit in his portrayal of a film . xxmaj am surprised that xxmaj montgomery xxmaj clift did n't get this part . \n",
              " \n",
              "  xxmaj ruth xxmaj white is his mother and does remarkably well in two scenes on the telephone . \n",
              " \n",
              "  xxmaj once in xxmaj new xxmaj york , he befriends xxmaj sidney xxmaj poitier as the two work on the docks . xxmaj immediately , xxmaj jack xxmaj warden , a bully and villain in this film , takes a dislike to him and tragedy ensues when xxmaj poitier tries to defend his friend . \n",
              " \n",
              "  xxmaj ruby xxmaj dee , plays xxmaj poitier 's wife in this film , and is brilliant in a scene where she urges xxmaj cassavetes to reveal the killer of her husband . \n",
              " \n",
              "  xxmaj this is definitely an interesting film of moral values and the loner in society . xxmaj with the backdrop of tenements , the right mood is depicted in the film .\n",
              "y: CategoryList\n",
              "pos,pos,pos,pos,pos\n",
              "Path: /root/.fastai/data/imdb;\n",
              "\n",
              "Test: None, model=SequentialRNN(\n",
              "  (0): MultiBatchEncoder(\n",
              "    (module): AWD_LSTM(\n",
              "      (encoder): Embedding(60000, 400, padding_idx=1)\n",
              "      (encoder_dp): EmbeddingDropout(\n",
              "        (emb): Embedding(60000, 400, padding_idx=1)\n",
              "      )\n",
              "      (rnns): ModuleList(\n",
              "        (0): WeightDropout(\n",
              "          (module): LSTM(400, 1152, batch_first=True)\n",
              "        )\n",
              "        (1): WeightDropout(\n",
              "          (module): LSTM(1152, 1152, batch_first=True)\n",
              "        )\n",
              "        (2): WeightDropout(\n",
              "          (module): LSTM(1152, 400, batch_first=True)\n",
              "        )\n",
              "      )\n",
              "      (input_dp): RNNDropout()\n",
              "      (hidden_dps): ModuleList(\n",
              "        (0): RNNDropout()\n",
              "        (1): RNNDropout()\n",
              "        (2): RNNDropout()\n",
              "      )\n",
              "    )\n",
              "  )\n",
              "  (1): PoolingLinearClassifier(\n",
              "    (layers): Sequential(\n",
              "      (0): BatchNorm1d(1200, eps=1e-05, momentum=0.1, affine=True, track_running_stats=True)\n",
              "      (1): Dropout(p=0.2, inplace=False)\n",
              "      (2): Linear(in_features=1200, out_features=50, bias=True)\n",
              "      (3): ReLU(inplace=True)\n",
              "      (4): BatchNorm1d(50, eps=1e-05, momentum=0.1, affine=True, track_running_stats=True)\n",
              "      (5): Dropout(p=0.1, inplace=False)\n",
              "      (6): Linear(in_features=50, out_features=2, bias=True)\n",
              "    )\n",
              "  )\n",
              "), opt_func=functools.partial(<class 'torch.optim.adam.Adam'>, betas=(0.9, 0.99)), loss_func=FlattenedLoss of CrossEntropyLoss(), metrics=[<function accuracy at 0x7f2b211b8c80>], true_wd=True, bn_wd=True, wd=0.01, train_bn=True, path=PosixPath('/root/.fastai/data/imdb'), model_dir='models', callback_fns=[functools.partial(<class 'fastai.basic_train.Recorder'>, add_time=True, silent=False)], callbacks=[...], layer_groups=[Sequential(\n",
              "  (0): Embedding(60000, 400, padding_idx=1)\n",
              "  (1): EmbeddingDropout(\n",
              "    (emb): Embedding(60000, 400, padding_idx=1)\n",
              "  )\n",
              "), Sequential(\n",
              "  (0): WeightDropout(\n",
              "    (module): LSTM(400, 1152, batch_first=True)\n",
              "  )\n",
              "  (1): RNNDropout()\n",
              "), Sequential(\n",
              "  (0): WeightDropout(\n",
              "    (module): LSTM(1152, 1152, batch_first=True)\n",
              "  )\n",
              "  (1): RNNDropout()\n",
              "), Sequential(\n",
              "  (0): WeightDropout(\n",
              "    (module): LSTM(1152, 400, batch_first=True)\n",
              "  )\n",
              "  (1): RNNDropout()\n",
              "), Sequential(\n",
              "  (0): PoolingLinearClassifier(\n",
              "    (layers): Sequential(\n",
              "      (0): BatchNorm1d(1200, eps=1e-05, momentum=0.1, affine=True, track_running_stats=True)\n",
              "      (1): Dropout(p=0.2, inplace=False)\n",
              "      (2): Linear(in_features=1200, out_features=50, bias=True)\n",
              "      (3): ReLU(inplace=True)\n",
              "      (4): BatchNorm1d(50, eps=1e-05, momentum=0.1, affine=True, track_running_stats=True)\n",
              "      (5): Dropout(p=0.1, inplace=False)\n",
              "      (6): Linear(in_features=50, out_features=2, bias=True)\n",
              "    )\n",
              "  )\n",
              ")], add_time=True, silent=False)\n",
              "alpha: 2.0\n",
              "beta: 1.0], layer_groups=[Sequential(\n",
              "  (0): Embedding(60000, 400, padding_idx=1)\n",
              "  (1): EmbeddingDropout(\n",
              "    (emb): Embedding(60000, 400, padding_idx=1)\n",
              "  )\n",
              "), Sequential(\n",
              "  (0): WeightDropout(\n",
              "    (module): LSTM(400, 1152, batch_first=True)\n",
              "  )\n",
              "  (1): RNNDropout()\n",
              "), Sequential(\n",
              "  (0): WeightDropout(\n",
              "    (module): LSTM(1152, 1152, batch_first=True)\n",
              "  )\n",
              "  (1): RNNDropout()\n",
              "), Sequential(\n",
              "  (0): WeightDropout(\n",
              "    (module): LSTM(1152, 400, batch_first=True)\n",
              "  )\n",
              "  (1): RNNDropout()\n",
              "), Sequential(\n",
              "  (0): PoolingLinearClassifier(\n",
              "    (layers): Sequential(\n",
              "      (0): BatchNorm1d(1200, eps=1e-05, momentum=0.1, affine=True, track_running_stats=True)\n",
              "      (1): Dropout(p=0.2, inplace=False)\n",
              "      (2): Linear(in_features=1200, out_features=50, bias=True)\n",
              "      (3): ReLU(inplace=True)\n",
              "      (4): BatchNorm1d(50, eps=1e-05, momentum=0.1, affine=True, track_running_stats=True)\n",
              "      (5): Dropout(p=0.1, inplace=False)\n",
              "      (6): Linear(in_features=50, out_features=2, bias=True)\n",
              "    )\n",
              "  )\n",
              ")], add_time=True, silent=False)"
            ]
          },
          "metadata": {
            "tags": []
          },
          "execution_count": 47
        }
      ]
    },
    {
      "cell_type": "code",
      "metadata": {
        "id": "nJ3XXyRxEozB",
        "colab_type": "code",
        "colab": {
          "base_uri": "https://localhost:8080/",
          "height": 375
        },
        "outputId": "878bb398-4698-4994-a2f2-79d75ab3fb73"
      },
      "source": [
        "learn.lr_find()\n",
        "learn.recorder.plot()"
      ],
      "execution_count": 48,
      "outputs": [
        {
          "output_type": "display_data",
          "data": {
            "text/html": [
              "\n",
              "    <div>\n",
              "        <style>\n",
              "            /* Turns off some styling */\n",
              "            progress {\n",
              "                /* gets rid of default border in Firefox and Opera. */\n",
              "                border: none;\n",
              "                /* Needs to be in here for Safari polyfill so background images work as expected. */\n",
              "                background-size: auto;\n",
              "            }\n",
              "            .progress-bar-interrupted, .progress-bar-interrupted::-webkit-progress-bar {\n",
              "                background: #F44336;\n",
              "            }\n",
              "        </style>\n",
              "      <progress value='0' class='' max='1' style='width:300px; height:20px; vertical-align: middle;'></progress>\n",
              "      0.00% [0/1 00:00<00:00]\n",
              "    </div>\n",
              "    \n",
              "<table border=\"1\" class=\"dataframe\">\n",
              "  <thead>\n",
              "    <tr style=\"text-align: left;\">\n",
              "      <th>epoch</th>\n",
              "      <th>train_loss</th>\n",
              "      <th>valid_loss</th>\n",
              "      <th>accuracy</th>\n",
              "      <th>time</th>\n",
              "    </tr>\n",
              "  </thead>\n",
              "  <tbody>\n",
              "  </tbody>\n",
              "</table><p>\n",
              "\n",
              "    <div>\n",
              "        <style>\n",
              "            /* Turns off some styling */\n",
              "            progress {\n",
              "                /* gets rid of default border in Firefox and Opera. */\n",
              "                border: none;\n",
              "                /* Needs to be in here for Safari polyfill so background images work as expected. */\n",
              "                background-size: auto;\n",
              "            }\n",
              "            .progress-bar-interrupted, .progress-bar-interrupted::-webkit-progress-bar {\n",
              "                background: #F44336;\n",
              "            }\n",
              "        </style>\n",
              "      <progress value='94' class='' max='520' style='width:300px; height:20px; vertical-align: middle;'></progress>\n",
              "      18.08% [94/520 00:57<04:22 2.1548]\n",
              "    </div>\n",
              "    "
            ],
            "text/plain": [
              "<IPython.core.display.HTML object>"
            ]
          },
          "metadata": {
            "tags": []
          }
        },
        {
          "output_type": "stream",
          "text": [
            "LR Finder is complete, type {learner_name}.recorder.plot() to see the graph.\n"
          ],
          "name": "stdout"
        },
        {
          "output_type": "display_data",
          "data": {
            "image/png": "[encoded data removed]",
            "text/plain": [
              "<Figure size 432x288 with 1 Axes>"
            ]
          },
          "metadata": {
            "tags": [],
            "needs_background": "light"
          }
        }
      ]
    },
    {
      "cell_type": "code",
      "metadata": {
        "id": "NyjfBaGUEsMM",
        "colab_type": "code",
        "colab": {
          "base_uri": "https://localhost:8080/",
          "height": 81
        },
        "outputId": "e092959a-7f34-4661-ee33-82489a11274c"
      },
      "source": [
        "learn.fit_one_cycle(1, 2e-2, moms=(0.8,0.7))"
      ],
      "execution_count": 49,
      "outputs": [
        {
          "output_type": "display_data",
          "data": {
            "text/html": [
              "<table border=\"1\" class=\"dataframe\">\n",
              "  <thead>\n",
              "    <tr style=\"text-align: left;\">\n",
              "      <th>epoch</th>\n",
              "      <th>train_loss</th>\n",
              "      <th>valid_loss</th>\n",
              "      <th>accuracy</th>\n",
              "      <th>time</th>\n",
              "    </tr>\n",
              "  </thead>\n",
              "  <tbody>\n",
              "    <tr>\n",
              "      <td>0</td>\n",
              "      <td>0.419888</td>\n",
              "      <td>0.317046</td>\n",
              "      <td>0.868320</td>\n",
              "      <td>09:58</td>\n",
              "    </tr>\n",
              "  </tbody>\n",
              "</table>"
            ],
            "text/plain": [
              "<IPython.core.display.HTML object>"
            ]
          },
          "metadata": {
            "tags": []
          }
        }
      ]
    },
    {
      "cell_type": "code",
      "metadata": {
        "id": "2TeavIEfEt93",
        "colab_type": "code",
        "colab": {}
      },
      "source": [
        "learn.save('first')"
      ],
      "execution_count": 50,
      "outputs": []
    },
    {
      "cell_type": "code",
      "metadata": {
        "id": "wvNjZMLbEvqV",
        "colab_type": "code",
        "colab": {}
      },
      "source": [
        "learn.load('first');"
      ],
      "execution_count": null,
      "outputs": []
    },
    {
      "cell_type": "code",
      "metadata": {
        "id": "Hpue-HQgExno",
        "colab_type": "code",
        "colab": {
          "base_uri": "https://localhost:8080/",
          "height": 81
        },
        "outputId": "648b3594-3bf8-46b1-b177-fcbc3f901f7a"
      },
      "source": [
        "learn.freeze_to(-2)\n",
        "learn.fit_one_cycle(1, slice(1e-2/(2.6**4),1e-2), moms=(0.8,0.7))"
      ],
      "execution_count": 51,
      "outputs": [
        {
          "output_type": "display_data",
          "data": {
            "text/html": [
              "<table border=\"1\" class=\"dataframe\">\n",
              "  <thead>\n",
              "    <tr style=\"text-align: left;\">\n",
              "      <th>epoch</th>\n",
              "      <th>train_loss</th>\n",
              "      <th>valid_loss</th>\n",
              "      <th>accuracy</th>\n",
              "      <th>time</th>\n",
              "    </tr>\n",
              "  </thead>\n",
              "  <tbody>\n",
              "    <tr>\n",
              "      <td>0</td>\n",
              "      <td>0.316347</td>\n",
              "      <td>0.231119</td>\n",
              "      <td>0.909200</td>\n",
              "      <td>11:05</td>\n",
              "    </tr>\n",
              "  </tbody>\n",
              "</table>"
            ],
            "text/plain": [
              "<IPython.core.display.HTML object>"
            ]
          },
          "metadata": {
            "tags": []
          }
        }
      ]
    },
    {
      "cell_type": "code",
      "metadata": {
        "id": "lCa6sKbTEzcQ",
        "colab_type": "code",
        "colab": {}
      },
      "source": [
        "learn.save('second')"
      ],
      "execution_count": 52,
      "outputs": []
    },
    {
      "cell_type": "code",
      "metadata": {
        "id": "OpQI4ewmE1Au",
        "colab_type": "code",
        "colab": {}
      },
      "source": [
        "learn.load('second');"
      ],
      "execution_count": null,
      "outputs": []
    },
    {
      "cell_type": "code",
      "metadata": {
        "id": "5q9vcxqgE2pY",
        "colab_type": "code",
        "colab": {
          "base_uri": "https://localhost:8080/",
          "height": 81
        },
        "outputId": "3b8ef523-4606-458b-dad3-7b3c0b7b49ba"
      },
      "source": [
        "learn.freeze_to(-3)\n",
        "learn.fit_one_cycle(1, slice(5e-3/(2.6**4),5e-3), moms=(0.8,0.7))"
      ],
      "execution_count": 53,
      "outputs": [
        {
          "output_type": "display_data",
          "data": {
            "text/html": [
              "<table border=\"1\" class=\"dataframe\">\n",
              "  <thead>\n",
              "    <tr style=\"text-align: left;\">\n",
              "      <th>epoch</th>\n",
              "      <th>train_loss</th>\n",
              "      <th>valid_loss</th>\n",
              "      <th>accuracy</th>\n",
              "      <th>time</th>\n",
              "    </tr>\n",
              "  </thead>\n",
              "  <tbody>\n",
              "    <tr>\n",
              "      <td>0</td>\n",
              "      <td>0.253875</td>\n",
              "      <td>0.185546</td>\n",
              "      <td>0.929680</td>\n",
              "      <td>15:53</td>\n",
              "    </tr>\n",
              "  </tbody>\n",
              "</table>"
            ],
            "text/plain": [
              "<IPython.core.display.HTML object>"
            ]
          },
          "metadata": {
            "tags": []
          }
        }
      ]
    },
    {
      "cell_type": "code",
      "metadata": {
        "id": "4bX4GMn2E40g",
        "colab_type": "code",
        "colab": {}
      },
      "source": [
        "learn.save('third')"
      ],
      "execution_count": 54,
      "outputs": []
    },
    {
      "cell_type": "code",
      "metadata": {
        "id": "H0yS_KknE6Hd",
        "colab_type": "code",
        "colab": {}
      },
      "source": [
        "learn.load('third');"
      ],
      "execution_count": null,
      "outputs": []
    },
    {
      "cell_type": "code",
      "metadata": {
        "id": "B__OtV1lFBqT",
        "colab_type": "code",
        "colab": {
          "base_uri": "https://localhost:8080/",
          "height": 112
        },
        "outputId": "2b6164c9-2678-4899-a63f-9fda67dc514d"
      },
      "source": [
        "learn.unfreeze()\n",
        "learn.fit_one_cycle(2, slice(1e-3/(2.6**4),1e-3), moms=(0.8,0.7))"
      ],
      "execution_count": 55,
      "outputs": [
        {
          "output_type": "display_data",
          "data": {
            "text/html": [
              "<table border=\"1\" class=\"dataframe\">\n",
              "  <thead>\n",
              "    <tr style=\"text-align: left;\">\n",
              "      <th>epoch</th>\n",
              "      <th>train_loss</th>\n",
              "      <th>valid_loss</th>\n",
              "      <th>accuracy</th>\n",
              "      <th>time</th>\n",
              "    </tr>\n",
              "  </thead>\n",
              "  <tbody>\n",
              "    <tr>\n",
              "      <td>0</td>\n",
              "      <td>0.205825</td>\n",
              "      <td>0.174822</td>\n",
              "      <td>0.933280</td>\n",
              "      <td>19:52</td>\n",
              "    </tr>\n",
              "    <tr>\n",
              "      <td>1</td>\n",
              "      <td>0.201119</td>\n",
              "      <td>0.171346</td>\n",
              "      <td>0.936040</td>\n",
              "      <td>19:04</td>\n",
              "    </tr>\n",
              "  </tbody>\n",
              "</table>"
            ],
            "text/plain": [
              "<IPython.core.display.HTML object>"
            ]
          },
          "metadata": {
            "tags": []
          }
        }
      ]
    },
    {
      "cell_type": "code",
      "metadata": {
        "id": "RC7BtnNcYqvM",
        "colab_type": "code",
        "colab": {}
      },
      "source": [
        "learn.save('last')"
      ],
      "execution_count": 56,
      "outputs": []
    },
    {
      "cell_type": "code",
      "metadata": {
        "id": "WBdZx52zFCFs",
        "colab_type": "code",
        "colab": {
          "base_uri": "https://localhost:8080/",
          "height": 34
        },
        "outputId": "93cdf81b-dbb3-4409-a712-0b5d6348730b"
      },
      "source": [
        "learn.predict(\"I really loved that movie, it was awesome!\")"
      ],
      "execution_count": 59,
      "outputs": [
        {
          "output_type": "execute_result",
          "data": {
            "text/plain": [
              "(Category tensor(1), tensor(1), tensor([3.6717e-06, 1.0000e+00]))"
            ]
          },
          "metadata": {
            "tags": []
          },
          "execution_count": 59
        }
      ]
    },
    {
      "cell_type": "code",
      "metadata": {
        "id": "U_4CBo_HYuF6",
        "colab_type": "code",
        "colab": {}
      },
      "source": [
        ""
      ],
      "execution_count": null,
      "outputs": []
    }
  ]
}